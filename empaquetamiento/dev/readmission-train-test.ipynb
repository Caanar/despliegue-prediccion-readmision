{
 "cells": [
  {
   "cell_type": "markdown",
   "id": "fa66a9c9",
   "metadata": {
    "papermill": {
     "duration": 0.014153,
     "end_time": "2023-04-29T13:29:31.248114",
     "exception": false,
     "start_time": "2023-04-29T13:29:31.233961",
     "status": "completed"
    },
    "tags": []
   },
   "source": []
  },
  {
   "cell_type": "markdown",
   "id": "f9418b2a",
   "metadata": {
    "papermill": {
     "duration": 0.012662,
     "end_time": "2023-04-29T13:29:31.273772",
     "exception": false,
     "start_time": "2023-04-29T13:29:31.261110",
     "status": "completed"
    },
    "tags": []
   },
   "source": [
    "## Importar Librerías"
   ]
  },
  {
   "cell_type": "code",
   "execution_count": 48,
   "id": "f98d0106",
   "metadata": {
    "execution": {
     "iopub.execute_input": "2023-04-29T13:29:31.302138Z",
     "iopub.status.busy": "2023-04-29T13:29:31.301405Z",
     "iopub.status.idle": "2023-04-29T13:29:33.164112Z",
     "shell.execute_reply": "2023-04-29T13:29:33.162399Z"
    },
    "papermill": {
     "duration": 1.880783,
     "end_time": "2023-04-29T13:29:33.167438",
     "exception": false,
     "start_time": "2023-04-29T13:29:31.286655",
     "status": "completed"
    },
    "tags": []
   },
   "outputs": [],
   "source": [
    "# Librerías básicas\n",
    "import numpy as np\n",
    "import pandas as pd\n",
    "\n",
    "# Librerías de procesamiento\n",
    "from sklearn.preprocessing import RobustScaler\n",
    "\n",
    "# Librerías del modelo \n",
    "from sklearn.ensemble import RandomForestClassifier\n",
    "\n",
    "# Librerías de entrenamiento\n",
    "from sklearn.model_selection import train_test_split\n",
    "from sklearn import metrics "
   ]
  },
  {
   "cell_type": "markdown",
   "id": "65f164b0",
   "metadata": {
    "papermill": {
     "duration": 0.013005,
     "end_time": "2023-04-29T13:29:33.195383",
     "exception": false,
     "start_time": "2023-04-29T13:29:33.182378",
     "status": "completed"
    },
    "tags": []
   },
   "source": [
    "## Import Dataset"
   ]
  },
  {
   "cell_type": "code",
   "execution_count": 49,
   "id": "a9a7ce94",
   "metadata": {},
   "outputs": [],
   "source": [
    "df = pd.read_csv('.\\\\diabetic_data_processed.csv').drop(['Unnamed: 0','race','max_glu_serum','A1Cresult'], axis=1)\n",
    "#df.shape\n",
    "#df[\"readmitted\"].unique()\n",
    "#df.head()\n",
    "#df.groupby([\"readmitted\"]).count()\n",
    "#df.describe()\n",
    "#df.info()"
   ]
  },
  {
   "cell_type": "code",
   "execution_count": 50,
   "id": "d0cb1e7d",
   "metadata": {
    "execution": {
     "iopub.execute_input": "2023-04-29T13:29:33.592783Z",
     "iopub.status.busy": "2023-04-29T13:29:33.591751Z",
     "iopub.status.idle": "2023-04-29T13:29:33.623691Z",
     "shell.execute_reply": "2023-04-29T13:29:33.622299Z"
    },
    "papermill": {
     "duration": 0.050668,
     "end_time": "2023-04-29T13:29:33.626754",
     "exception": false,
     "start_time": "2023-04-29T13:29:33.576086",
     "status": "completed"
    },
    "tags": []
   },
   "outputs": [
    {
     "data": {
      "text/html": [
       "<div>\n",
       "<style scoped>\n",
       "    .dataframe tbody tr th:only-of-type {\n",
       "        vertical-align: middle;\n",
       "    }\n",
       "\n",
       "    .dataframe tbody tr th {\n",
       "        vertical-align: top;\n",
       "    }\n",
       "\n",
       "    .dataframe thead th {\n",
       "        text-align: right;\n",
       "    }\n",
       "</style>\n",
       "<table border=\"1\" class=\"dataframe\">\n",
       "  <thead>\n",
       "    <tr style=\"text-align: right;\">\n",
       "      <th></th>\n",
       "      <th>gender</th>\n",
       "      <th>age</th>\n",
       "      <th>admission_type_id</th>\n",
       "      <th>discharge_disposition_id</th>\n",
       "      <th>admission_source_id</th>\n",
       "      <th>time_in_hospital</th>\n",
       "      <th>num_lab_procedures</th>\n",
       "      <th>num_procedures</th>\n",
       "      <th>num_medications</th>\n",
       "      <th>number_outpatient</th>\n",
       "      <th>...</th>\n",
       "      <th>tolazamide</th>\n",
       "      <th>insulin</th>\n",
       "      <th>glyburide-metformin</th>\n",
       "      <th>glipizide-metformin</th>\n",
       "      <th>glimepiride-pioglitazone</th>\n",
       "      <th>metformin-rosiglitazone</th>\n",
       "      <th>metformin-pioglitazone</th>\n",
       "      <th>change</th>\n",
       "      <th>diabetesMed</th>\n",
       "      <th>readmitted</th>\n",
       "    </tr>\n",
       "  </thead>\n",
       "  <tbody>\n",
       "    <tr>\n",
       "      <th>0</th>\n",
       "      <td>Female</td>\n",
       "      <td>[0-10)</td>\n",
       "      <td>5</td>\n",
       "      <td>18</td>\n",
       "      <td>1</td>\n",
       "      <td>1</td>\n",
       "      <td>41</td>\n",
       "      <td>0</td>\n",
       "      <td>1</td>\n",
       "      <td>0</td>\n",
       "      <td>...</td>\n",
       "      <td>No</td>\n",
       "      <td>No</td>\n",
       "      <td>No</td>\n",
       "      <td>No</td>\n",
       "      <td>No</td>\n",
       "      <td>No</td>\n",
       "      <td>No</td>\n",
       "      <td>No</td>\n",
       "      <td>No</td>\n",
       "      <td>NO</td>\n",
       "    </tr>\n",
       "    <tr>\n",
       "      <th>1</th>\n",
       "      <td>Female</td>\n",
       "      <td>[10-20)</td>\n",
       "      <td>1</td>\n",
       "      <td>1</td>\n",
       "      <td>7</td>\n",
       "      <td>3</td>\n",
       "      <td>59</td>\n",
       "      <td>0</td>\n",
       "      <td>18</td>\n",
       "      <td>0</td>\n",
       "      <td>...</td>\n",
       "      <td>No</td>\n",
       "      <td>Up</td>\n",
       "      <td>No</td>\n",
       "      <td>No</td>\n",
       "      <td>No</td>\n",
       "      <td>No</td>\n",
       "      <td>No</td>\n",
       "      <td>Ch</td>\n",
       "      <td>Yes</td>\n",
       "      <td>&gt;30</td>\n",
       "    </tr>\n",
       "    <tr>\n",
       "      <th>2</th>\n",
       "      <td>Female</td>\n",
       "      <td>[20-30)</td>\n",
       "      <td>1</td>\n",
       "      <td>1</td>\n",
       "      <td>7</td>\n",
       "      <td>2</td>\n",
       "      <td>11</td>\n",
       "      <td>5</td>\n",
       "      <td>13</td>\n",
       "      <td>2</td>\n",
       "      <td>...</td>\n",
       "      <td>No</td>\n",
       "      <td>No</td>\n",
       "      <td>No</td>\n",
       "      <td>No</td>\n",
       "      <td>No</td>\n",
       "      <td>No</td>\n",
       "      <td>No</td>\n",
       "      <td>No</td>\n",
       "      <td>Yes</td>\n",
       "      <td>NO</td>\n",
       "    </tr>\n",
       "    <tr>\n",
       "      <th>3</th>\n",
       "      <td>Male</td>\n",
       "      <td>[30-40)</td>\n",
       "      <td>1</td>\n",
       "      <td>1</td>\n",
       "      <td>7</td>\n",
       "      <td>2</td>\n",
       "      <td>44</td>\n",
       "      <td>1</td>\n",
       "      <td>16</td>\n",
       "      <td>0</td>\n",
       "      <td>...</td>\n",
       "      <td>No</td>\n",
       "      <td>Up</td>\n",
       "      <td>No</td>\n",
       "      <td>No</td>\n",
       "      <td>No</td>\n",
       "      <td>No</td>\n",
       "      <td>No</td>\n",
       "      <td>Ch</td>\n",
       "      <td>Yes</td>\n",
       "      <td>NO</td>\n",
       "    </tr>\n",
       "    <tr>\n",
       "      <th>4</th>\n",
       "      <td>Male</td>\n",
       "      <td>[40-50)</td>\n",
       "      <td>1</td>\n",
       "      <td>1</td>\n",
       "      <td>7</td>\n",
       "      <td>1</td>\n",
       "      <td>51</td>\n",
       "      <td>0</td>\n",
       "      <td>8</td>\n",
       "      <td>0</td>\n",
       "      <td>...</td>\n",
       "      <td>No</td>\n",
       "      <td>Steady</td>\n",
       "      <td>No</td>\n",
       "      <td>No</td>\n",
       "      <td>No</td>\n",
       "      <td>No</td>\n",
       "      <td>No</td>\n",
       "      <td>Ch</td>\n",
       "      <td>Yes</td>\n",
       "      <td>NO</td>\n",
       "    </tr>\n",
       "  </tbody>\n",
       "</table>\n",
       "<p>5 rows × 37 columns</p>\n",
       "</div>"
      ],
      "text/plain": [
       "   gender      age  admission_type_id  discharge_disposition_id  \\\n",
       "0  Female   [0-10)                  5                        18   \n",
       "1  Female  [10-20)                  1                         1   \n",
       "2  Female  [20-30)                  1                         1   \n",
       "3    Male  [30-40)                  1                         1   \n",
       "4    Male  [40-50)                  1                         1   \n",
       "\n",
       "   admission_source_id  time_in_hospital  num_lab_procedures  num_procedures  \\\n",
       "0                    1                 1                  41               0   \n",
       "1                    7                 3                  59               0   \n",
       "2                    7                 2                  11               5   \n",
       "3                    7                 2                  44               1   \n",
       "4                    7                 1                  51               0   \n",
       "\n",
       "   num_medications  number_outpatient  ...  tolazamide  insulin  \\\n",
       "0                1                  0  ...          No       No   \n",
       "1               18                  0  ...          No       Up   \n",
       "2               13                  2  ...          No       No   \n",
       "3               16                  0  ...          No       Up   \n",
       "4                8                  0  ...          No   Steady   \n",
       "\n",
       "   glyburide-metformin glipizide-metformin glimepiride-pioglitazone  \\\n",
       "0                   No                  No                       No   \n",
       "1                   No                  No                       No   \n",
       "2                   No                  No                       No   \n",
       "3                   No                  No                       No   \n",
       "4                   No                  No                       No   \n",
       "\n",
       "  metformin-rosiglitazone metformin-pioglitazone change diabetesMed readmitted  \n",
       "0                      No                     No     No          No         NO  \n",
       "1                      No                     No     Ch         Yes        >30  \n",
       "2                      No                     No     No         Yes         NO  \n",
       "3                      No                     No     Ch         Yes         NO  \n",
       "4                      No                     No     Ch         Yes         NO  \n",
       "\n",
       "[5 rows x 37 columns]"
      ]
     },
     "execution_count": 50,
     "metadata": {},
     "output_type": "execute_result"
    }
   ],
   "source": [
    "df.head()"
   ]
  },
  {
   "cell_type": "markdown",
   "id": "0d9f525f",
   "metadata": {
    "papermill": {
     "duration": 0.020854,
     "end_time": "2023-04-29T13:29:37.075271",
     "exception": false,
     "start_time": "2023-04-29T13:29:37.054417",
     "status": "completed"
    },
    "tags": []
   },
   "source": [
    "## Pre-Processing"
   ]
  },
  {
   "cell_type": "code",
   "execution_count": 51,
   "id": "9ba36a48",
   "metadata": {
    "execution": {
     "iopub.execute_input": "2023-04-29T13:29:37.118344Z",
     "iopub.status.busy": "2023-04-29T13:29:37.117891Z",
     "iopub.status.idle": "2023-04-29T13:29:37.215869Z",
     "shell.execute_reply": "2023-04-29T13:29:37.214861Z"
    },
    "papermill": {
     "duration": 0.122753,
     "end_time": "2023-04-29T13:29:37.218672",
     "exception": false,
     "start_time": "2023-04-29T13:29:37.095919",
     "status": "completed"
    },
    "tags": []
   },
   "outputs": [
    {
     "name": "stdout",
     "output_type": "stream",
     "text": [
      "New Number of Features: 96\n"
     ]
    }
   ],
   "source": [
    "# make gender and outcome numerical\n",
    "df = df[df.gender != 'Unknown/Invalid']\n",
    "df['gender'] = df['gender'].map({'Male': 1, 'Female': 0})\n",
    "\n",
    "# Code adapted from: https://www.kaggle.com/code/andreshg/churn-prediction-0-99-auc-h2o-sklearn-smote#2.-Feature-Engeneering\n",
    "catcols = df.drop('readmitted', axis=1).select_dtypes(exclude = ['int64']).columns\n",
    "intcols = df.select_dtypes(include = ['int64']).columns\n",
    "\n",
    "# one-hot encoding on categorical columns\n",
    "df = pd.get_dummies(df, columns = catcols)\n",
    "\n",
    "# scaling numeric features \n",
    "for col in df[intcols]:\n",
    "    df[col] = RobustScaler().fit_transform(df[[col]])\n",
    "    \n",
    "print('New Number of Features: %d'%(df.shape[1]))  "
   ]
  },
  {
   "cell_type": "code",
   "execution_count": 52,
   "id": "82a3687d",
   "metadata": {
    "execution": {
     "iopub.execute_input": "2023-04-29T13:29:37.262022Z",
     "iopub.status.busy": "2023-04-29T13:29:37.261565Z",
     "iopub.status.idle": "2023-04-29T13:29:37.270234Z",
     "shell.execute_reply": "2023-04-29T13:29:37.269289Z"
    },
    "papermill": {
     "duration": 0.033425,
     "end_time": "2023-04-29T13:29:37.272675",
     "exception": false,
     "start_time": "2023-04-29T13:29:37.239250",
     "status": "completed"
    },
    "tags": []
   },
   "outputs": [],
   "source": [
    "# split into X and y\n",
    "X = df.drop('readmitted', axis = 1)\n",
    "y = df['readmitted']"
   ]
  },
  {
   "cell_type": "markdown",
   "id": "6c4eb413",
   "metadata": {
    "papermill": {
     "duration": 0.021228,
     "end_time": "2023-04-29T13:29:37.407707",
     "exception": false,
     "start_time": "2023-04-29T13:29:37.386479",
     "status": "completed"
    },
    "tags": []
   },
   "source": [
    "## Feature Selection"
   ]
  },
  {
   "cell_type": "code",
   "execution_count": 53,
   "id": "f2be5a9c",
   "metadata": {
    "execution": {
     "iopub.execute_input": "2023-04-29T13:29:57.244471Z",
     "iopub.status.busy": "2023-04-29T13:29:57.244033Z",
     "iopub.status.idle": "2023-04-29T13:30:08.269937Z",
     "shell.execute_reply": "2023-04-29T13:30:08.268675Z"
    },
    "papermill": {
     "duration": 11.060264,
     "end_time": "2023-04-29T13:30:08.273019",
     "exception": false,
     "start_time": "2023-04-29T13:29:57.212755",
     "status": "completed"
    },
    "tags": []
   },
   "outputs": [],
   "source": [
    "forest = RandomForestClassifier(n_estimators = 100, max_depth = 19, random_state = 0)\n",
    "\n",
    "train_x, test_x, train_y, test_y = train_test_split(X, y, test_size = 0.25, random_state = 42)\n",
    "    \n",
    "forest.fit(train_x,train_y)\n",
    "forest.score(test_x, test_y)\n",
    "pred_test = forest.predict(test_x)\n",
    "\n",
    "f1 = metrics.f1_score(test_y, pred_test, average = 'weighted')\n",
    "test_acc = metrics.accuracy_score(test_y, pred_test)\n",
    "con = metrics.confusion_matrix(test_y, pred_test)\n",
    "precision = metrics.precision_score(test_y, pred_test, average = 'weighted')\n",
    "recall = metrics.recall_score(test_y, pred_test, average = 'weighted')"
   ]
  },
  {
   "cell_type": "code",
   "execution_count": 54,
   "id": "a140e45c",
   "metadata": {
    "execution": {
     "iopub.execute_input": "2023-04-29T13:30:08.335747Z",
     "iopub.status.busy": "2023-04-29T13:30:08.334478Z",
     "iopub.status.idle": "2023-04-29T13:30:08.343635Z",
     "shell.execute_reply": "2023-04-29T13:30:08.341935Z"
    },
    "papermill": {
     "duration": 0.043145,
     "end_time": "2023-04-29T13:30:08.346404",
     "exception": false,
     "start_time": "2023-04-29T13:30:08.303259",
     "status": "completed"
    },
    "tags": []
   },
   "outputs": [
    {
     "name": "stdout",
     "output_type": "stream",
     "text": [
      "Accuracy Score 0.5845682166581502\n",
      "Precision 0.5545072937128047\n",
      "Recall 0.5845682166581502\n",
      "F1-Score 0.5266809567288755\n",
      "[[   21  1016  1833]\n",
      " [   21  2953  5908]\n",
      " [    6  1785 11898]]\n"
     ]
    }
   ],
   "source": [
    "print('Accuracy Score', test_acc)\n",
    "print('Precision', precision)\n",
    "print('Recall', recall)\n",
    "print('F1-Score', f1)\n",
    "print(con)"
   ]
  },
  {
   "cell_type": "code",
   "execution_count": 55,
   "id": "8ad596c7",
   "metadata": {
    "execution": {
     "iopub.execute_input": "2023-04-29T13:30:08.407317Z",
     "iopub.status.busy": "2023-04-29T13:30:08.406900Z",
     "iopub.status.idle": "2023-04-29T13:31:47.583180Z",
     "shell.execute_reply": "2023-04-29T13:31:47.581675Z"
    },
    "papermill": {
     "duration": 99.238744,
     "end_time": "2023-04-29T13:31:47.614102",
     "exception": false,
     "start_time": "2023-04-29T13:30:08.375358",
     "status": "completed"
    },
    "tags": []
   },
   "outputs": [
    {
     "data": {
      "text/plain": [
       "['fit_time', 'score_time', 'test_score']"
      ]
     },
     "execution_count": 55,
     "metadata": {},
     "output_type": "execute_result"
    }
   ],
   "source": [
    "#cross validation\n",
    "from sklearn.model_selection import cross_validate \n",
    "\n",
    "cv_results = cross_validate(forest, X, y, scoring = ('f1_weighted'), cv = 5)\n",
    "sorted(cv_results.keys())"
   ]
  },
  {
   "cell_type": "code",
   "execution_count": 56,
   "id": "a2dfa89f",
   "metadata": {
    "execution": {
     "iopub.execute_input": "2023-04-29T13:31:47.675234Z",
     "iopub.status.busy": "2023-04-29T13:31:47.674053Z",
     "iopub.status.idle": "2023-04-29T13:31:47.682437Z",
     "shell.execute_reply": "2023-04-29T13:31:47.681251Z"
    },
    "papermill": {
     "duration": 0.041424,
     "end_time": "2023-04-29T13:31:47.684792",
     "exception": false,
     "start_time": "2023-04-29T13:31:47.643368",
     "status": "completed"
    },
    "tags": []
   },
   "outputs": [
    {
     "data": {
      "text/plain": [
       "<Axes: >"
      ]
     },
     "execution_count": 56,
     "metadata": {},
     "output_type": "execute_result"
    },
    {
     "data": {
      "image/png": "[encoded data removed]",
      "text/plain": [
       "<Figure size 640x480 with 1 Axes>"
      ]
     },
     "metadata": {},
     "output_type": "display_data"
    }
   ],
   "source": [
    "feat_importances = pd.Series(forest.feature_importances_, index=X.columns)\n",
    "feat_importances.nlargest(6).plot(kind='barh')"
   ]
  },
  {
   "cell_type": "markdown",
   "id": "2c8653a0",
   "metadata": {
    "papermill": {
     "duration": 0.02943,
     "end_time": "2023-04-29T13:29:57.112040",
     "exception": false,
     "start_time": "2023-04-29T13:29:57.082610",
     "status": "completed"
    },
    "tags": []
   },
   "source": [
    "## Apply final model"
   ]
  },
  {
   "cell_type": "code",
   "execution_count": 58,
   "id": "bade5562",
   "metadata": {
    "execution": {
     "iopub.execute_input": "2023-04-29T13:31:47.745382Z",
     "iopub.status.busy": "2023-04-29T13:31:47.744977Z",
     "iopub.status.idle": "2023-04-29T13:31:47.752306Z",
     "shell.execute_reply": "2023-04-29T13:31:47.751031Z"
    },
    "papermill": {
     "duration": 0.04067,
     "end_time": "2023-04-29T13:31:47.754550",
     "exception": false,
     "start_time": "2023-04-29T13:31:47.713880",
     "status": "completed"
    },
    "tags": []
   },
   "outputs": [],
   "source": [
    "X = df[['num_lab_procedures', 'num_medications', 'number_inpatient', 'time_in_hospital', 'discharge_disposition_id', 'number_diagnoses']]\n",
    "\n",
    "train_x, test_x, train_y, test_y = train_test_split(X, y, test_size = 0.25, random_state = 42)\n",
    "    \n",
    "forest.fit(train_x,train_y)\n",
    "forest.score(test_x, test_y)\n",
    "pred_test = forest.predict(test_x)\n",
    "\n",
    "f1 = metrics.f1_score(test_y, pred_test, average = 'weighted')\n",
    "test_acc = metrics.accuracy_score(test_y, pred_test)\n",
    "con = metrics.confusion_matrix(test_y, pred_test)\n",
    "precision = metrics.precision_score(test_y, pred_test, average = 'weighted')\n",
    "recall = metrics.recall_score(test_y, pred_test, average = 'weighted')"
   ]
  },
  {
   "cell_type": "code",
   "execution_count": 59,
   "metadata": {},
   "outputs": [
    {
     "name": "stdout",
     "output_type": "stream",
     "text": [
      "Accuracy Score 0.5577217876655792\n",
      "Precision 0.5141201519001809\n",
      "Recall 0.5577217876655792\n",
      "F1-Score 0.5155233781618596\n",
      "[[  123  1042  1705]\n",
      " [  186  3049  5647]\n",
      " [  145  2527 11017]]\n"
     ]
    }
   ],
   "source": [
    "print('Accuracy Score', test_acc)\n",
    "print('Precision', precision)\n",
    "print('Recall', recall)\n",
    "print('F1-Score', f1)\n",
    "print(con)"
   ]
  }
 ],
 "metadata": {
  "kernelspec": {
   "display_name": "Python 3",
   "language": "python",
   "name": "python3"
  },
  "language_info": {
   "codemirror_mode": {
    "name": "ipython",
    "version": 3
   },
   "file_extension": ".py",
   "mimetype": "text/x-python",
   "name": "python",
   "nbconvert_exporter": "python",
   "pygments_lexer": "ipython3",
   "version": "3.8.0"
  },
  "papermill": {
   "default_parameters": {},
   "duration": 148.559691,
   "end_time": "2023-04-29T13:31:48.779871",
   "environment_variables": {},
   "exception": null,
   "input_path": "__notebook__.ipynb",
   "output_path": "__notebook__.ipynb",
   "parameters": {},
   "start_time": "2023-04-29T13:29:20.220180",
   "version": "2.4.0"
  }
 },
 "nbformat": 4,
 "nbformat_minor": 5
}
